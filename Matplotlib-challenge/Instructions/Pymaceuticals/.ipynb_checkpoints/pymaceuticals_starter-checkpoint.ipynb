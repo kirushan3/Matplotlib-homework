{
 "cells": [
  {
   "cell_type": "markdown",
   "metadata": {},
   "source": [
    "## Observations and Insights "
   ]
  },
  {
   "cell_type": "markdown",
   "metadata": {},
   "source": []
  },
  {
   "cell_type": "code",
   "execution_count": 2,
   "metadata": {},
   "outputs": [
    {
     "data": {
      "text/html": [
       "<div>\n",
       "<style scoped>\n",
       "    .dataframe tbody tr th:only-of-type {\n",
       "        vertical-align: middle;\n",
       "    }\n",
       "\n",
       "    .dataframe tbody tr th {\n",
       "        vertical-align: top;\n",
       "    }\n",
       "\n",
       "    .dataframe thead th {\n",
       "        text-align: right;\n",
       "    }\n",
       "</style>\n",
       "<table border=\"1\" class=\"dataframe\">\n",
       "  <thead>\n",
       "    <tr style=\"text-align: right;\">\n",
       "      <th></th>\n",
       "      <th>Mouse ID</th>\n",
       "      <th>Drug Regimen</th>\n",
       "      <th>Sex</th>\n",
       "      <th>Age_months</th>\n",
       "      <th>Weight (g)</th>\n",
       "      <th>Timepoint</th>\n",
       "      <th>Tumor Volume (mm3)</th>\n",
       "      <th>Metastatic Sites</th>\n",
       "    </tr>\n",
       "  </thead>\n",
       "  <tbody>\n",
       "    <tr>\n",
       "      <th>0</th>\n",
       "      <td>k403</td>\n",
       "      <td>Ramicane</td>\n",
       "      <td>Male</td>\n",
       "      <td>21</td>\n",
       "      <td>16</td>\n",
       "      <td>0</td>\n",
       "      <td>45.000000</td>\n",
       "      <td>0</td>\n",
       "    </tr>\n",
       "    <tr>\n",
       "      <th>1</th>\n",
       "      <td>k403</td>\n",
       "      <td>Ramicane</td>\n",
       "      <td>Male</td>\n",
       "      <td>21</td>\n",
       "      <td>16</td>\n",
       "      <td>5</td>\n",
       "      <td>38.825898</td>\n",
       "      <td>0</td>\n",
       "    </tr>\n",
       "    <tr>\n",
       "      <th>2</th>\n",
       "      <td>k403</td>\n",
       "      <td>Ramicane</td>\n",
       "      <td>Male</td>\n",
       "      <td>21</td>\n",
       "      <td>16</td>\n",
       "      <td>10</td>\n",
       "      <td>35.014271</td>\n",
       "      <td>1</td>\n",
       "    </tr>\n",
       "    <tr>\n",
       "      <th>3</th>\n",
       "      <td>k403</td>\n",
       "      <td>Ramicane</td>\n",
       "      <td>Male</td>\n",
       "      <td>21</td>\n",
       "      <td>16</td>\n",
       "      <td>15</td>\n",
       "      <td>34.223992</td>\n",
       "      <td>1</td>\n",
       "    </tr>\n",
       "    <tr>\n",
       "      <th>4</th>\n",
       "      <td>k403</td>\n",
       "      <td>Ramicane</td>\n",
       "      <td>Male</td>\n",
       "      <td>21</td>\n",
       "      <td>16</td>\n",
       "      <td>20</td>\n",
       "      <td>32.997729</td>\n",
       "      <td>1</td>\n",
       "    </tr>\n",
       "  </tbody>\n",
       "</table>\n",
       "</div>"
      ],
      "text/plain": [
       "  Mouse ID Drug Regimen   Sex  Age_months  Weight (g)  Timepoint  \\\n",
       "0     k403     Ramicane  Male          21          16          0   \n",
       "1     k403     Ramicane  Male          21          16          5   \n",
       "2     k403     Ramicane  Male          21          16         10   \n",
       "3     k403     Ramicane  Male          21          16         15   \n",
       "4     k403     Ramicane  Male          21          16         20   \n",
       "\n",
       "   Tumor Volume (mm3)  Metastatic Sites  \n",
       "0           45.000000                 0  \n",
       "1           38.825898                 0  \n",
       "2           35.014271                 1  \n",
       "3           34.223992                 1  \n",
       "4           32.997729                 1  "
      ]
     },
     "execution_count": 2,
     "metadata": {},
     "output_type": "execute_result"
    }
   ],
   "source": [
    "# Dependencies and Setup\n",
    "import matplotlib.pyplot as plt\n",
    "import pandas as pd\n",
    "import scipy.stats as st\n",
    "import numpy as np\n",
    "\n",
    "# Study data files\n",
    "mouse_metadata_path = \"data/Mouse_metadata.csv\"\n",
    "study_results_path = \"data/Study_results.csv\"\n",
    "\n",
    "# Read the mouse data and the study results\n",
    "mouse_metadata = pd.read_csv(mouse_metadata_path)\n",
    "study_results = pd.read_csv(study_results_path)\n",
    "\n",
    "#Combine the data into a single dataset\n",
    "\n",
    "merged_data = pd.merge(mouse_metadata, study_results, on=\"Mouse ID\", how=\"left\")\n",
    "\n",
    "merged_data.head()"
   ]
  },
  {
   "cell_type": "code",
   "execution_count": 3,
   "metadata": {},
   "outputs": [
    {
     "data": {
      "text/plain": [
       "Mouse ID              1893\n",
       "Drug Regimen          1893\n",
       "Sex                   1893\n",
       "Age_months            1893\n",
       "Weight (g)            1893\n",
       "Timepoint             1893\n",
       "Tumor Volume (mm3)    1893\n",
       "Metastatic Sites      1893\n",
       "dtype: int64"
      ]
     },
     "execution_count": 3,
     "metadata": {},
     "output_type": "execute_result"
    }
   ],
   "source": [
    "# Checking the number of mice in the DataFrame.\n",
    "merged_data.count()"
   ]
  },
  {
   "cell_type": "code",
   "execution_count": 4,
   "metadata": {},
   "outputs": [
    {
     "data": {
      "text/plain": [
       "Mouse ID              1888\n",
       "Drug Regimen          1888\n",
       "Sex                   1888\n",
       "Age_months            1888\n",
       "Weight (g)            1888\n",
       "Timepoint             1888\n",
       "Tumor Volume (mm3)    1888\n",
       "Metastatic Sites      1888\n",
       "dtype: int64"
      ]
     },
     "execution_count": 4,
     "metadata": {},
     "output_type": "execute_result"
    }
   ],
   "source": [
    "# Getting the duplicate mice by ID number that shows up for Mouse ID and Timepoint. \n",
    "merged_data_cleaned = merged_data.drop_duplicates(subset = [\"Mouse ID\",\"Timepoint\"],keep=\"first\")\n",
    "merged_data_cleaned.count()"
   ]
  },
  {
   "cell_type": "code",
   "execution_count": 5,
   "metadata": {},
   "outputs": [],
   "source": [
    "# Optional: Get all the data for the duplicate mouse ID. \n"
   ]
  },
  {
   "cell_type": "code",
   "execution_count": 6,
   "metadata": {},
   "outputs": [
    {
     "data": {
      "text/html": [
       "<div>\n",
       "<style scoped>\n",
       "    .dataframe tbody tr th:only-of-type {\n",
       "        vertical-align: middle;\n",
       "    }\n",
       "\n",
       "    .dataframe tbody tr th {\n",
       "        vertical-align: top;\n",
       "    }\n",
       "\n",
       "    .dataframe thead th {\n",
       "        text-align: right;\n",
       "    }\n",
       "</style>\n",
       "<table border=\"1\" class=\"dataframe\">\n",
       "  <thead>\n",
       "    <tr style=\"text-align: right;\">\n",
       "      <th></th>\n",
       "      <th>Mouse ID</th>\n",
       "      <th>Drug Regimen</th>\n",
       "      <th>Sex</th>\n",
       "      <th>Age_months</th>\n",
       "      <th>Weight (g)</th>\n",
       "      <th>Timepoint</th>\n",
       "      <th>Tumor Volume (mm3)</th>\n",
       "      <th>Metastatic Sites</th>\n",
       "    </tr>\n",
       "  </thead>\n",
       "  <tbody>\n",
       "    <tr>\n",
       "      <th>0</th>\n",
       "      <td>k403</td>\n",
       "      <td>Ramicane</td>\n",
       "      <td>Male</td>\n",
       "      <td>21</td>\n",
       "      <td>16</td>\n",
       "      <td>0</td>\n",
       "      <td>45.000000</td>\n",
       "      <td>0</td>\n",
       "    </tr>\n",
       "    <tr>\n",
       "      <th>1</th>\n",
       "      <td>k403</td>\n",
       "      <td>Ramicane</td>\n",
       "      <td>Male</td>\n",
       "      <td>21</td>\n",
       "      <td>16</td>\n",
       "      <td>5</td>\n",
       "      <td>38.825898</td>\n",
       "      <td>0</td>\n",
       "    </tr>\n",
       "    <tr>\n",
       "      <th>2</th>\n",
       "      <td>k403</td>\n",
       "      <td>Ramicane</td>\n",
       "      <td>Male</td>\n",
       "      <td>21</td>\n",
       "      <td>16</td>\n",
       "      <td>10</td>\n",
       "      <td>35.014271</td>\n",
       "      <td>1</td>\n",
       "    </tr>\n",
       "    <tr>\n",
       "      <th>3</th>\n",
       "      <td>k403</td>\n",
       "      <td>Ramicane</td>\n",
       "      <td>Male</td>\n",
       "      <td>21</td>\n",
       "      <td>16</td>\n",
       "      <td>15</td>\n",
       "      <td>34.223992</td>\n",
       "      <td>1</td>\n",
       "    </tr>\n",
       "    <tr>\n",
       "      <th>4</th>\n",
       "      <td>k403</td>\n",
       "      <td>Ramicane</td>\n",
       "      <td>Male</td>\n",
       "      <td>21</td>\n",
       "      <td>16</td>\n",
       "      <td>20</td>\n",
       "      <td>32.997729</td>\n",
       "      <td>1</td>\n",
       "    </tr>\n",
       "  </tbody>\n",
       "</table>\n",
       "</div>"
      ],
      "text/plain": [
       "  Mouse ID Drug Regimen   Sex  Age_months  Weight (g)  Timepoint  \\\n",
       "0     k403     Ramicane  Male          21          16          0   \n",
       "1     k403     Ramicane  Male          21          16          5   \n",
       "2     k403     Ramicane  Male          21          16         10   \n",
       "3     k403     Ramicane  Male          21          16         15   \n",
       "4     k403     Ramicane  Male          21          16         20   \n",
       "\n",
       "   Tumor Volume (mm3)  Metastatic Sites  \n",
       "0           45.000000                 0  \n",
       "1           38.825898                 0  \n",
       "2           35.014271                 1  \n",
       "3           34.223992                 1  \n",
       "4           32.997729                 1  "
      ]
     },
     "execution_count": 6,
     "metadata": {},
     "output_type": "execute_result"
    }
   ],
   "source": [
    "# Create a clean DataFrame by dropping the duplicate mouse by its ID.\n",
    "merged_data_cleaned.head()"
   ]
  },
  {
   "cell_type": "code",
   "execution_count": 7,
   "metadata": {},
   "outputs": [
    {
     "data": {
      "text/plain": [
       "Mouse ID              1888\n",
       "Drug Regimen          1888\n",
       "Sex                   1888\n",
       "Age_months            1888\n",
       "Weight (g)            1888\n",
       "Timepoint             1888\n",
       "Tumor Volume (mm3)    1888\n",
       "Metastatic Sites      1888\n",
       "dtype: int64"
      ]
     },
     "execution_count": 7,
     "metadata": {},
     "output_type": "execute_result"
    }
   ],
   "source": [
    "# Checking the number of mice in the clean DataFrame.\n",
    "merged_data_cleaned.count()"
   ]
  },
  {
   "cell_type": "markdown",
   "metadata": {},
   "source": [
    "## Summary Statistics"
   ]
  },
  {
   "cell_type": "code",
   "execution_count": 48,
   "metadata": {},
   "outputs": [
    {
     "data": {
      "text/html": [
       "<div>\n",
       "<style scoped>\n",
       "    .dataframe tbody tr th:only-of-type {\n",
       "        vertical-align: middle;\n",
       "    }\n",
       "\n",
       "    .dataframe tbody tr th {\n",
       "        vertical-align: top;\n",
       "    }\n",
       "\n",
       "    .dataframe thead th {\n",
       "        text-align: right;\n",
       "    }\n",
       "</style>\n",
       "<table border=\"1\" class=\"dataframe\">\n",
       "  <thead>\n",
       "    <tr style=\"text-align: right;\">\n",
       "      <th></th>\n",
       "      <th>Mean</th>\n",
       "      <th>Median</th>\n",
       "      <th>Variance</th>\n",
       "      <th>Standard Deviation</th>\n",
       "      <th>SEM</th>\n",
       "    </tr>\n",
       "    <tr>\n",
       "      <th>Drug Regimen</th>\n",
       "      <th></th>\n",
       "      <th></th>\n",
       "      <th></th>\n",
       "      <th></th>\n",
       "      <th></th>\n",
       "    </tr>\n",
       "  </thead>\n",
       "  <tbody>\n",
       "    <tr>\n",
       "      <th>Ramicane</th>\n",
       "      <td>40.216745</td>\n",
       "      <td>40.673236</td>\n",
       "      <td>23.486704</td>\n",
       "      <td>4.846308</td>\n",
       "      <td>0.320955</td>\n",
       "    </tr>\n",
       "    <tr>\n",
       "      <th>Capomulin</th>\n",
       "      <td>40.675741</td>\n",
       "      <td>41.557809</td>\n",
       "      <td>24.947764</td>\n",
       "      <td>4.994774</td>\n",
       "      <td>0.329346</td>\n",
       "    </tr>\n",
       "    <tr>\n",
       "      <th>Infubinol</th>\n",
       "      <td>52.884795</td>\n",
       "      <td>51.820584</td>\n",
       "      <td>43.128684</td>\n",
       "      <td>6.567243</td>\n",
       "      <td>0.492236</td>\n",
       "    </tr>\n",
       "    <tr>\n",
       "      <th>Placebo</th>\n",
       "      <td>54.033581</td>\n",
       "      <td>52.288934</td>\n",
       "      <td>61.168083</td>\n",
       "      <td>7.821003</td>\n",
       "      <td>0.581331</td>\n",
       "    </tr>\n",
       "    <tr>\n",
       "      <th>Ceftamin</th>\n",
       "      <td>52.591172</td>\n",
       "      <td>51.776157</td>\n",
       "      <td>39.290177</td>\n",
       "      <td>6.268188</td>\n",
       "      <td>0.469821</td>\n",
       "    </tr>\n",
       "    <tr>\n",
       "      <th>Stelasyn</th>\n",
       "      <td>54.233149</td>\n",
       "      <td>52.431737</td>\n",
       "      <td>59.450562</td>\n",
       "      <td>7.710419</td>\n",
       "      <td>0.573111</td>\n",
       "    </tr>\n",
       "    <tr>\n",
       "      <th>Zoniferol</th>\n",
       "      <td>53.236507</td>\n",
       "      <td>51.818479</td>\n",
       "      <td>48.533355</td>\n",
       "      <td>6.966589</td>\n",
       "      <td>0.516398</td>\n",
       "    </tr>\n",
       "    <tr>\n",
       "      <th>Ketapril</th>\n",
       "      <td>55.235638</td>\n",
       "      <td>53.698743</td>\n",
       "      <td>68.553577</td>\n",
       "      <td>8.279709</td>\n",
       "      <td>0.603860</td>\n",
       "    </tr>\n",
       "    <tr>\n",
       "      <th>Propriva</th>\n",
       "      <td>52.393463</td>\n",
       "      <td>50.909965</td>\n",
       "      <td>43.138803</td>\n",
       "      <td>6.568014</td>\n",
       "      <td>0.525862</td>\n",
       "    </tr>\n",
       "    <tr>\n",
       "      <th>Naftisol</th>\n",
       "      <td>54.331565</td>\n",
       "      <td>52.509285</td>\n",
       "      <td>66.173479</td>\n",
       "      <td>8.134708</td>\n",
       "      <td>0.596466</td>\n",
       "    </tr>\n",
       "  </tbody>\n",
       "</table>\n",
       "</div>"
      ],
      "text/plain": [
       "                   Mean     Median   Variance  Standard Deviation       SEM\n",
       "Drug Regimen                                                               \n",
       "Ramicane      40.216745  40.673236  23.486704            4.846308  0.320955\n",
       "Capomulin     40.675741  41.557809  24.947764            4.994774  0.329346\n",
       "Infubinol     52.884795  51.820584  43.128684            6.567243  0.492236\n",
       "Placebo       54.033581  52.288934  61.168083            7.821003  0.581331\n",
       "Ceftamin      52.591172  51.776157  39.290177            6.268188  0.469821\n",
       "Stelasyn      54.233149  52.431737  59.450562            7.710419  0.573111\n",
       "Zoniferol     53.236507  51.818479  48.533355            6.966589  0.516398\n",
       "Ketapril      55.235638  53.698743  68.553577            8.279709  0.603860\n",
       "Propriva      52.393463  50.909965  43.138803            6.568014  0.525862\n",
       "Naftisol      54.331565  52.509285  66.173479            8.134708  0.596466"
      ]
     },
     "execution_count": 48,
     "metadata": {},
     "output_type": "execute_result"
    }
   ],
   "source": [
    "# Generate a summary statistics table of mean, median, variance, standard deviation, and SEM of the tumor volume for each regimen\n",
    "#merged_data_cleaned[\"Drug Regimen\"].unique()\n",
    "#['Ramicane', 'Capomulin', 'Infubinol', 'Placebo', 'Ceftamin','Stelasyn', 'Zoniferol', 'Ketapril', 'Propriva', 'Naftisol']\n",
    "\n",
    "#ramicane mean summary\n",
    "ramicane_summary = merged_data_cleaned.loc[merged_data_cleaned[\"Drug Regimen\"] == \"Ramicane\"]\n",
    "ramicane_mean_tuvol = ramicane_summary[\"Tumor Volume (mm3)\"].mean()\n",
    "\n",
    "#ramicane median summary\n",
    "ramicane_summary = merged_data_cleaned.loc[merged_data_cleaned[\"Drug Regimen\"] == \"Ramicane\"]\n",
    "ramicane_median_tuvol = ramicane_summary[\"Tumor Volume (mm3)\"].median()\n",
    "\n",
    "#ramicane variance summary\n",
    "ramicane_summary = merged_data_cleaned.loc[merged_data_cleaned[\"Drug Regimen\"] == \"Ramicane\"]\n",
    "ramicane_var_tuvol = ramicane_summary[\"Tumor Volume (mm3)\"].var()\n",
    "\n",
    "#ramicane std summary\n",
    "ramicane_summary = merged_data_cleaned.loc[merged_data_cleaned[\"Drug Regimen\"] == \"Ramicane\"]\n",
    "ramicane_std_tuvol = ramicane_summary[\"Tumor Volume (mm3)\"].std()\n",
    "\n",
    "#ramicane sem summary\n",
    "ramicane_summary = merged_data_cleaned.loc[merged_data_cleaned[\"Drug Regimen\"] == \"Ramicane\"]\n",
    "ramicane_sem_tuvol = ramicane_summary[\"Tumor Volume (mm3)\"].sem()\n",
    "\n",
    "#ramicane tumor volume summary dataframe\n",
    "ramicane_summary_tuvol_df = pd.DataFrame([{\"Drug Regimen\" : \"Ramicane\"\n",
    "                                          ,\"Mean\" : ramicane_mean_tuvol\n",
    "                                         ,\"Median\" : ramicane_median_tuvol\n",
    "                                         ,\"Variance\" : ramicane_var_tuvol\n",
    "                                         ,\"Standard Deviation\" : ramicane_std_tuvol\n",
    "                                          ,\"SEM\" : ramicane_sem_tuvol}])\n",
    "\n",
    "#Capomulin mean summary\n",
    "Capomulin_summary = merged_data_cleaned.loc[merged_data_cleaned[\"Drug Regimen\"] == \"Capomulin\"]\n",
    "Capomulin_mean_tuvol = Capomulin_summary[\"Tumor Volume (mm3)\"].mean()\n",
    "\n",
    "#Capomulin median summary\n",
    "Capomulin_summary = merged_data_cleaned.loc[merged_data_cleaned[\"Drug Regimen\"] == \"Capomulin\"]\n",
    "Capomulin_median_tuvol = Capomulin_summary[\"Tumor Volume (mm3)\"].median()\n",
    "\n",
    "#Capomulin variance summary\n",
    "Capomulin_summary = merged_data_cleaned.loc[merged_data_cleaned[\"Drug Regimen\"] == \"Capomulin\"]\n",
    "Capomulin_var_tuvol = Capomulin_summary[\"Tumor Volume (mm3)\"].var()\n",
    "\n",
    "#Capomulin std summary\n",
    "Capomulin_summary = merged_data_cleaned.loc[merged_data_cleaned[\"Drug Regimen\"] == \"Capomulin\"]\n",
    "Capomulin_std_tuvol = Capomulin_summary[\"Tumor Volume (mm3)\"].std()\n",
    "\n",
    "#Capomulin sem summary\n",
    "Capomulin_summary = merged_data_cleaned.loc[merged_data_cleaned[\"Drug Regimen\"] == \"Capomulin\"]\n",
    "Capomulin_sem_tuvol = Capomulin_summary[\"Tumor Volume (mm3)\"].sem()\n",
    "\n",
    "#Capomulin tumor volume summary dataframe\n",
    "Capomulin_summary_tuvol_df = pd.DataFrame([{\"Drug Regimen\" : \"Capomulin\"\n",
    "                                          ,\"Mean\" : Capomulin_mean_tuvol\n",
    "                                         ,\"Median\" : Capomulin_median_tuvol\n",
    "                                         ,\"Variance\" : Capomulin_var_tuvol\n",
    "                                         ,\"Standard Deviation\" : Capomulin_std_tuvol\n",
    "                                          ,\"SEM\" : Capomulin_sem_tuvol}])\n",
    "\n",
    "#Infubinol mean summary\n",
    "Infubinol_summary = merged_data_cleaned.loc[merged_data_cleaned[\"Drug Regimen\"] == \"Infubinol\"]\n",
    "Infubinol_mean_tuvol = Infubinol_summary[\"Tumor Volume (mm3)\"].mean()\n",
    "\n",
    "#Infubinol median summary\n",
    "Infubinol_summary = merged_data_cleaned.loc[merged_data_cleaned[\"Drug Regimen\"] == \"Infubinol\"]\n",
    "Infubinol_median_tuvol = Infubinol_summary[\"Tumor Volume (mm3)\"].median()\n",
    "\n",
    "#Infubinol variance summary\n",
    "Infubinol_summary = merged_data_cleaned.loc[merged_data_cleaned[\"Drug Regimen\"] == \"Infubinol\"]\n",
    "Infubinol_var_tuvol = Infubinol_summary[\"Tumor Volume (mm3)\"].var()\n",
    "\n",
    "#Infubinol std summary\n",
    "Infubinol_summary = merged_data_cleaned.loc[merged_data_cleaned[\"Drug Regimen\"] == \"Infubinol\"]\n",
    "Infubinol_std_tuvol = Infubinol_summary[\"Tumor Volume (mm3)\"].std()\n",
    "\n",
    "#Capomulin sem summary\n",
    "Infubinol_summary = merged_data_cleaned.loc[merged_data_cleaned[\"Drug Regimen\"] == \"Infubinol\"]\n",
    "Infubinol_sem_tuvol = Infubinol_summary[\"Tumor Volume (mm3)\"].sem()\n",
    "\n",
    "#Capomulin tumor volume summary dataframe\n",
    "Infubinol_summary_tuvol_df = pd.DataFrame([{\"Drug Regimen\" : \"Infubinol\"\n",
    "                                          ,\"Mean\" : Infubinol_mean_tuvol\n",
    "                                         ,\"Median\" : Infubinol_median_tuvol\n",
    "                                         ,\"Variance\" : Infubinol_var_tuvol\n",
    "                                         ,\"Standard Deviation\" : Infubinol_std_tuvol\n",
    "                                          ,\"SEM\" : Infubinol_sem_tuvol}])\n",
    "\n",
    "#Placebo mean summary\n",
    "Placebo_summary = merged_data_cleaned.loc[merged_data_cleaned[\"Drug Regimen\"] == \"Placebo\"]\n",
    "Placebo_mean_tuvol = Placebo_summary[\"Tumor Volume (mm3)\"].mean()\n",
    "\n",
    "#Placebo median summary\n",
    "Placebo_summary = merged_data_cleaned.loc[merged_data_cleaned[\"Drug Regimen\"] == \"Placebo\"]\n",
    "Placebo_median_tuvol = Placebo_summary[\"Tumor Volume (mm3)\"].median()\n",
    "\n",
    "#Placebo variance summary\n",
    "Placebo_summary = merged_data_cleaned.loc[merged_data_cleaned[\"Drug Regimen\"] == \"Placebo\"]\n",
    "Placebo_var_tuvol = Placebo_summary[\"Tumor Volume (mm3)\"].var()\n",
    "\n",
    "#Placebo std summary\n",
    "Placebo_summary = merged_data_cleaned.loc[merged_data_cleaned[\"Drug Regimen\"] == \"Placebo\"]\n",
    "Placebo_std_tuvol = Placebo_summary[\"Tumor Volume (mm3)\"].std()\n",
    "\n",
    "#Placebo sem summary\n",
    "Placebo_summary = merged_data_cleaned.loc[merged_data_cleaned[\"Drug Regimen\"] == \"Placebo\"]\n",
    "Placebo_sem_tuvol = Placebo_summary[\"Tumor Volume (mm3)\"].sem()\n",
    "\n",
    "#Placebo tumor volume summary dataframe\n",
    "Placebo_summary_tuvol_df = pd.DataFrame([{\"Drug Regimen\" : \"Placebo\"\n",
    "                                          ,\"Mean\" : Placebo_mean_tuvol\n",
    "                                         ,\"Median\" : Placebo_median_tuvol\n",
    "                                         ,\"Variance\" : Placebo_var_tuvol\n",
    "                                         ,\"Standard Deviation\" : Placebo_std_tuvol\n",
    "                                          ,\"SEM\" : Placebo_sem_tuvol}])\n",
    "\n",
    "#Ceftamin mean summary\n",
    "Ceftamin_summary = merged_data_cleaned.loc[merged_data_cleaned[\"Drug Regimen\"] == \"Ceftamin\"]\n",
    "Ceftamin_mean_tuvol = Ceftamin_summary[\"Tumor Volume (mm3)\"].mean()\n",
    "\n",
    "#Ceftamin median summary\n",
    "Ceftamin_summary = merged_data_cleaned.loc[merged_data_cleaned[\"Drug Regimen\"] == \"Ceftamin\"]\n",
    "Ceftamin_median_tuvol = Ceftamin_summary[\"Tumor Volume (mm3)\"].median()\n",
    "\n",
    "#Ceftamin variance summary\n",
    "Ceftamin_summary = merged_data_cleaned.loc[merged_data_cleaned[\"Drug Regimen\"] == \"Ceftamin\"]\n",
    "Ceftamin_var_tuvol = Ceftamin_summary[\"Tumor Volume (mm3)\"].var()\n",
    "\n",
    "#Ceftamin std summary\n",
    "Ceftamin_summary = merged_data_cleaned.loc[merged_data_cleaned[\"Drug Regimen\"] == \"Ceftamin\"]\n",
    "Ceftamin_std_tuvol = Ceftamin_summary[\"Tumor Volume (mm3)\"].std()\n",
    "\n",
    "#Ceftamin sem summary\n",
    "Ceftamin_summary = merged_data_cleaned.loc[merged_data_cleaned[\"Drug Regimen\"] == \"Ceftamin\"]\n",
    "Ceftamin_sem_tuvol = Ceftamin_summary[\"Tumor Volume (mm3)\"].sem()\n",
    "\n",
    "#Ceftamin tumor volume summary dataframe\n",
    "Ceftamin_summary_tuvol_df = pd.DataFrame([{\"Drug Regimen\" : \"Ceftamin\"\n",
    "                                          ,\"Mean\" : Ceftamin_mean_tuvol\n",
    "                                         ,\"Median\" : Ceftamin_median_tuvol\n",
    "                                         ,\"Variance\" : Ceftamin_var_tuvol\n",
    "                                         ,\"Standard Deviation\" : Ceftamin_std_tuvol\n",
    "                                          ,\"SEM\" : Ceftamin_sem_tuvol}])\n",
    "\n",
    "#Stelasyn mean summary\n",
    "Stelasyn_summary = merged_data_cleaned.loc[merged_data_cleaned[\"Drug Regimen\"] == \"Stelasyn\"]\n",
    "Stelasyn_mean_tuvol = Stelasyn_summary[\"Tumor Volume (mm3)\"].mean()\n",
    "\n",
    "#Stelasyn median summary\n",
    "Stelasyn_summary = merged_data_cleaned.loc[merged_data_cleaned[\"Drug Regimen\"] == \"Stelasyn\"]\n",
    "Stelasyn_median_tuvol = Stelasyn_summary[\"Tumor Volume (mm3)\"].median()\n",
    "\n",
    "#Stelasyn variance summary\n",
    "Stelasyn_summary = merged_data_cleaned.loc[merged_data_cleaned[\"Drug Regimen\"] == \"Stelasyn\"]\n",
    "Stelasyn_var_tuvol = Stelasyn_summary[\"Tumor Volume (mm3)\"].var()\n",
    "\n",
    "#Stelasyn std summary\n",
    "Stelasyn_summary = merged_data_cleaned.loc[merged_data_cleaned[\"Drug Regimen\"] == \"Stelasyn\"]\n",
    "Stelasyn_std_tuvol = Stelasyn_summary[\"Tumor Volume (mm3)\"].std()\n",
    "\n",
    "#Stelasyn sem summary\n",
    "Stelasyn_summary = merged_data_cleaned.loc[merged_data_cleaned[\"Drug Regimen\"] == \"Stelasyn\"]\n",
    "Stelasyn_sem_tuvol = Stelasyn_summary[\"Tumor Volume (mm3)\"].sem()\n",
    "\n",
    "#Stelasyn tumor volume summary dataframe\n",
    "Stelasyn_summary_tuvol_df = pd.DataFrame([{\"Drug Regimen\" : \"Stelasyn\"\n",
    "                                          ,\"Mean\" : Stelasyn_mean_tuvol\n",
    "                                         ,\"Median\" : Stelasyn_median_tuvol\n",
    "                                         ,\"Variance\" : Stelasyn_var_tuvol\n",
    "                                         ,\"Standard Deviation\" : Stelasyn_std_tuvol\n",
    "                                          ,\"SEM\" : Stelasyn_sem_tuvol}])\n",
    "\n",
    "#Zoniferol mean summary\n",
    "Zoniferol_summary = merged_data_cleaned.loc[merged_data_cleaned[\"Drug Regimen\"] == \"Zoniferol\"]\n",
    "Zoniferol_mean_tuvol = Zoniferol_summary[\"Tumor Volume (mm3)\"].mean()\n",
    "\n",
    "#Zoniferol median summary\n",
    "Zoniferol_summary = merged_data_cleaned.loc[merged_data_cleaned[\"Drug Regimen\"] == \"Zoniferol\"]\n",
    "Zoniferol_median_tuvol = Zoniferol_summary[\"Tumor Volume (mm3)\"].median()\n",
    "\n",
    "#Zoniferol variance summary\n",
    "Zoniferol_summary = merged_data_cleaned.loc[merged_data_cleaned[\"Drug Regimen\"] == \"Zoniferol\"]\n",
    "Zoniferol_var_tuvol = Zoniferol_summary[\"Tumor Volume (mm3)\"].var()\n",
    "\n",
    "#Zoniferol std summary\n",
    "Zoniferol_summary = merged_data_cleaned.loc[merged_data_cleaned[\"Drug Regimen\"] == \"Zoniferol\"]\n",
    "Zoniferol_std_tuvol = Zoniferol_summary[\"Tumor Volume (mm3)\"].std()\n",
    "\n",
    "#Zoniferol sem summary\n",
    "Zoniferol_summary = merged_data_cleaned.loc[merged_data_cleaned[\"Drug Regimen\"] == \"Zoniferol\"]\n",
    "Zoniferol_sem_tuvol = Zoniferol_summary[\"Tumor Volume (mm3)\"].sem()\n",
    "\n",
    "#Zoniferol tumor volume summary dataframe\n",
    "Zoniferol_summary_tuvol_df = pd.DataFrame([{\"Drug Regimen\" : \"Zoniferol\"\n",
    "                                          ,\"Mean\" : Zoniferol_mean_tuvol\n",
    "                                         ,\"Median\" : Zoniferol_median_tuvol\n",
    "                                         ,\"Variance\" : Zoniferol_var_tuvol\n",
    "                                         ,\"Standard Deviation\" : Zoniferol_std_tuvol\n",
    "                                          ,\"SEM\" : Zoniferol_sem_tuvol}])\n",
    "\n",
    "#Ketapril mean summary\n",
    "Ketapril_summary = merged_data_cleaned.loc[merged_data_cleaned[\"Drug Regimen\"] == \"Ketapril\"]\n",
    "Ketapril_mean_tuvol = Ketapril_summary[\"Tumor Volume (mm3)\"].mean()\n",
    "\n",
    "#Ketapril median summary\n",
    "Ketapril_summary = merged_data_cleaned.loc[merged_data_cleaned[\"Drug Regimen\"] == \"Ketapril\"]\n",
    "Ketapril_median_tuvol = Ketapril_summary[\"Tumor Volume (mm3)\"].median()\n",
    "\n",
    "#Ketapril variance summary\n",
    "Ketapril_summary = merged_data_cleaned.loc[merged_data_cleaned[\"Drug Regimen\"] == \"Ketapril\"]\n",
    "Ketapril_var_tuvol = Ketapril_summary[\"Tumor Volume (mm3)\"].var()\n",
    "\n",
    "#Ketapril std summary\n",
    "Ketapril_summary = merged_data_cleaned.loc[merged_data_cleaned[\"Drug Regimen\"] == \"Ketapril\"]\n",
    "Ketapril_std_tuvol = Ketapril_summary[\"Tumor Volume (mm3)\"].std()\n",
    "\n",
    "#Ketapril sem summary\n",
    "Ketapril_summary = merged_data_cleaned.loc[merged_data_cleaned[\"Drug Regimen\"] == \"Ketapril\"]\n",
    "Ketapril_sem_tuvol = Ketapril_summary[\"Tumor Volume (mm3)\"].sem()\n",
    "\n",
    "#Ketapril tumor volume summary dataframe\n",
    "Ketapril_summary_tuvol_df = pd.DataFrame([{\"Drug Regimen\" : \"Ketapril\"\n",
    "                                          ,\"Mean\" : Ketapril_mean_tuvol\n",
    "                                         ,\"Median\" : Ketapril_median_tuvol\n",
    "                                         ,\"Variance\" : Ketapril_var_tuvol\n",
    "                                         ,\"Standard Deviation\" : Ketapril_std_tuvol\n",
    "                                          ,\"SEM\" : Ketapril_sem_tuvol}])\n",
    "\n",
    "#Propriva mean summary\n",
    "Propriva_summary = merged_data_cleaned.loc[merged_data_cleaned[\"Drug Regimen\"] == \"Propriva\"]\n",
    "Propriva_mean_tuvol = Propriva_summary[\"Tumor Volume (mm3)\"].mean()\n",
    "\n",
    "#Propriva median summary\n",
    "Propriva_summary = merged_data_cleaned.loc[merged_data_cleaned[\"Drug Regimen\"] == \"Propriva\"]\n",
    "Propriva_median_tuvol = Propriva_summary[\"Tumor Volume (mm3)\"].median()\n",
    "\n",
    "#Propriva variance summary\n",
    "Propriva_summary = merged_data_cleaned.loc[merged_data_cleaned[\"Drug Regimen\"] == \"Propriva\"]\n",
    "Propriva_var_tuvol = Propriva_summary[\"Tumor Volume (mm3)\"].var()\n",
    "\n",
    "#Propriva std summary\n",
    "Propriva_summary = merged_data_cleaned.loc[merged_data_cleaned[\"Drug Regimen\"] == \"Propriva\"]\n",
    "Propriva_std_tuvol = Propriva_summary[\"Tumor Volume (mm3)\"].std()\n",
    "\n",
    "#Propriva sem summary\n",
    "Propriva_summary = merged_data_cleaned.loc[merged_data_cleaned[\"Drug Regimen\"] == \"Propriva\"]\n",
    "Propriva_sem_tuvol = Propriva_summary[\"Tumor Volume (mm3)\"].sem()\n",
    "\n",
    "#Propriva tumor volume summary dataframe\n",
    "Propriva_summary_tuvol_df = pd.DataFrame([{\"Drug Regimen\" : \"Propriva\"\n",
    "                                          ,\"Mean\" : Propriva_mean_tuvol\n",
    "                                         ,\"Median\" : Propriva_median_tuvol\n",
    "                                         ,\"Variance\" : Propriva_var_tuvol\n",
    "                                         ,\"Standard Deviation\" : Propriva_std_tuvol\n",
    "                                          ,\"SEM\" : Propriva_sem_tuvol}])\n",
    "\n",
    "\n",
    "#Naftisol mean summary\n",
    "Naftisol_summary = merged_data_cleaned.loc[merged_data_cleaned[\"Drug Regimen\"] == \"Naftisol\"]\n",
    "Naftisol_mean_tuvol = Naftisol_summary[\"Tumor Volume (mm3)\"].mean()\n",
    "\n",
    "#Naftisol median summary\n",
    "Naftisol_summary = merged_data_cleaned.loc[merged_data_cleaned[\"Drug Regimen\"] == \"Naftisol\"]\n",
    "Naftisol_median_tuvol = Naftisol_summary[\"Tumor Volume (mm3)\"].median()\n",
    "\n",
    "#Naftisol variance summary\n",
    "Naftisol_summary = merged_data_cleaned.loc[merged_data_cleaned[\"Drug Regimen\"] == \"Naftisol\"]\n",
    "Naftisol_var_tuvol = Naftisol_summary[\"Tumor Volume (mm3)\"].var()\n",
    "\n",
    "#Naftisol std summary\n",
    "Naftisol_summary = merged_data_cleaned.loc[merged_data_cleaned[\"Drug Regimen\"] == \"Naftisol\"]\n",
    "Naftisol_std_tuvol = Naftisol_summary[\"Tumor Volume (mm3)\"].std()\n",
    "\n",
    "#Naftisol sem summary\n",
    "Naftisol_summary = merged_data_cleaned.loc[merged_data_cleaned[\"Drug Regimen\"] == \"Naftisol\"]\n",
    "Naftisol_sem_tuvol = Naftisol_summary[\"Tumor Volume (mm3)\"].sem()\n",
    "\n",
    "#Naftisol tumor volume summary dataframe\n",
    "Naftisol_summary_tuvol_df = pd.DataFrame([{\"Drug Regimen\" : \"Naftisol\"\n",
    "                                          ,\"Mean\" : Naftisol_mean_tuvol\n",
    "                                         ,\"Median\" : Naftisol_median_tuvol\n",
    "                                         ,\"Variance\" : Naftisol_var_tuvol\n",
    "                                         ,\"Standard Deviation\" : Naftisol_std_tuvol\n",
    "                                          ,\"SEM\" : Naftisol_sem_tuvol}])\n",
    "\n",
    "combined_drugs = [ramicane_summary_tuvol_df,\n",
    "                            Capomulin_summary_tuvol_df,\n",
    "                            Infubinol_summary_tuvol_df,\n",
    "                            Placebo_summary_tuvol_df,\n",
    "                            Ceftamin_summary_tuvol_df,\n",
    "                            Stelasyn_summary_tuvol_df,\n",
    "                            Zoniferol_summary_tuvol_df,\n",
    "                            Ketapril_summary_tuvol_df,\n",
    "                            Propriva_summary_tuvol_df,\n",
    "                            Naftisol_summary_tuvol_df]\n",
    "\n",
    "combined_drugs_df = pd.concat(combined_drugs)\n",
    "combined_drugs_df.set_index(\"Drug Regimen\",inplace= True)\n",
    "combined_drugs_df"
   ]
  },
  {
   "cell_type": "code",
   "execution_count": null,
   "metadata": {
    "scrolled": true
   },
   "outputs": [],
   "source": []
  },
  {
   "cell_type": "markdown",
   "metadata": {},
   "source": [
    "## Bar Plots"
   ]
  },
  {
   "cell_type": "code",
   "execution_count": 84,
   "metadata": {},
   "outputs": [
    {
     "data": {
      "text/plain": [
       "Text(0, 0.5, 'Number of Mice')"
      ]
     },
     "execution_count": 84,
     "metadata": {},
     "output_type": "execute_result"
    },
    {
     "data": {
      "image/png": "[encoded data removed]",
      "text/plain": [
       "<Figure size 432x288 with 1 Axes>"
      ]
     },
     "metadata": {
      "needs_background": "light"
     },
     "output_type": "display_data"
    }
   ],
   "source": [
    "# Generate a bar plot showing the number of total mice for each treatment regimen throughout the course of the study using pyplot.\n",
    "\n",
    "mice_drugs = merged_data_cleaned[['Drug Regimen', 'Mouse ID']]\n",
    "total_mice_perdrug = mice_drugs[\"Drug Regimen\"].value_counts()\n",
    "total_mice_perdrug.plot(kind = \"bar\")\n",
    "plt.title(\"Total Mice per Drug Regimen\")\n",
    "plt.xlabel(\"Drug Regimen\")\n",
    "plt.ylabel(\"Number of Mice\")"
   ]
  },
  {
   "cell_type": "code",
   "execution_count": 85,
   "metadata": {},
   "outputs": [
    {
     "data": {
      "text/plain": [
       "Text(0, 0.5, 'Number of Mice')"
      ]
     },
     "execution_count": 85,
     "metadata": {},
     "output_type": "execute_result"
    },
    {
     "data": {
      "image/png": "[encoded data removed]",
      "text/plain": [
       "<Figure size 432x288 with 1 Axes>"
      ]
     },
     "metadata": {
      "needs_background": "light"
     },
     "output_type": "display_data"
    }
   ],
   "source": [
    "# Generate a bar plot showing the number of total mice for each treatment regimen throughout the course of the study using DataFrame.plot().\n",
    "plt.bar(total_mice_perdrug.index, total_mice_perdrug)\n",
    "plt.xticks(rotation = 90)\n",
    "plt.title(\"Total Mice per Drug Regimen\")\n",
    "plt.xlabel(\"Drug Regimen\")\n",
    "plt.ylabel(\"Number of Mice\")"
   ]
  },
  {
   "cell_type": "markdown",
   "metadata": {},
   "source": [
    "## Pie Plots"
   ]
  },
  {
   "cell_type": "code",
   "execution_count": 87,
   "metadata": {},
   "outputs": [
    {
     "data": {
      "text/plain": [
       "Text(0.5, 1.0, 'Gender Distribution')"
      ]
     },
     "execution_count": 87,
     "metadata": {},
     "output_type": "execute_result"
    },
    {
     "data": {
      "image/png": "[encoded data removed]",
      "text/plain": [
       "<Figure size 432x288 with 1 Axes>"
      ]
     },
     "metadata": {},
     "output_type": "display_data"
    }
   ],
   "source": [
    "# Generate a pie plot showing the distribution of female versus male mice using pandas\n",
    "gender_distro = merged_data_cleaned[[\"Sex\"]]\n",
    "gender_distro = gender_distro[\"Sex\"].value_counts()\n",
    "gender_distro.plot(kind = \"pie\", autopct=\"%1.1f%%\")\n",
    "plt.title(\"Gender Distribution\")\n"
   ]
  },
  {
   "cell_type": "code",
   "execution_count": 89,
   "metadata": {},
   "outputs": [
    {
     "data": {
      "text/plain": [
       "Text(0.5, 1.0, 'Gender Distribution')"
      ]
     },
     "execution_count": 89,
     "metadata": {},
     "output_type": "execute_result"
    },
    {
     "data": {
      "image/png": "[encoded data removed]",
      "text/plain": [
       "<Figure size 432x288 with 1 Axes>"
      ]
     },
     "metadata": {},
     "output_type": "display_data"
    }
   ],
   "source": [
    "# Generate a pie plot showing the distribution of female versus male mice using pyplot\n",
    "plt.pie(gender_distro, labels = gender_distro.index, autopct=\"%1.1f%%\")\n",
    "plt.title(\"Gender Distribution\")"
   ]
  },
  {
   "cell_type": "markdown",
   "metadata": {},
   "source": [
    "## Quartiles, Outliers and Boxplots"
   ]
  },
  {
   "cell_type": "code",
   "execution_count": null,
   "metadata": {},
   "outputs": [],
   "source": [
    "# Calculate the final tumor volume of each mouse across four of the most promising treatment regimens. Calculate the IQR and quantitatively determine if there are any potential outliers. \n"
   ]
  },
  {
   "cell_type": "code",
   "execution_count": null,
   "metadata": {},
   "outputs": [],
   "source": [
    "# Generate a box plot of the final tumor volume of each mouse across four regimens of interest"
   ]
  },
  {
   "cell_type": "markdown",
   "metadata": {},
   "source": [
    "## Line and Scatter Plots"
   ]
  },
  {
   "cell_type": "code",
   "execution_count": 92,
   "metadata": {},
   "outputs": [
    {
     "data": {
      "text/plain": [
       "Text(0, 0.5, 'Tumor Volume (mm3)')"
      ]
     },
     "execution_count": 92,
     "metadata": {},
     "output_type": "execute_result"
    },
    {
     "data": {
      "image/png": "[encoded data removed]",
      "text/plain": [
       "<Figure size 432x288 with 1 Axes>"
      ]
     },
     "metadata": {
      "needs_background": "light"
     },
     "output_type": "display_data"
    }
   ],
   "source": [
    "# Generate a line plot of time point versus tumor volume for a mouse treated with Capomulin\n",
    "capomulin_data = merged_data_cleaned[merged_data_cleaned[\"Drug Regimen\"]== \"Capomulin\"]\n",
    "capomulin_data = capomulin_data[capomulin_data[\"Mouse ID\"]== \"s185\"]\n",
    "capomulin_s185 = capomulin_data[['Timepoint', 'Tumor Volume (mm3)']]\n",
    "capomulin_s185.set_index(\"Timepoint\",inplace=True)\n",
    "capomulin_s185.plot(kind = \"line\")\n",
    "plt.title(\"Timepoint vs Tumor Volume for Mouse S185 (Capomulin treated)\")\n",
    "plt.xlabel(\"Timepoint\")\n",
    "plt.ylabel(\"Tumor Volume (mm3)\")"
   ]
  },
  {
   "cell_type": "code",
   "execution_count": 97,
   "metadata": {},
   "outputs": [
    {
     "data": {
      "text/plain": [
       "Text(0, 0.5, 'Avg Tumor Volume (mm3)')"
      ]
     },
     "execution_count": 97,
     "metadata": {},
     "output_type": "execute_result"
    },
    {
     "data": {
      "image/png": "[encoded data removed]",
      "text/plain": [
       "<Figure size 432x288 with 1 Axes>"
      ]
     },
     "metadata": {
      "needs_background": "light"
     },
     "output_type": "display_data"
    }
   ],
   "source": [
    "# Generate a scatter plot of mouse weight versus average tumor volume for the Capomulin regimen\n",
    "capomulin_data_2 = merged_data_cleaned[merged_data_cleaned[\"Drug Regimen\"]== \"Capomulin\"]\n",
    "weight_vs_tumors = capomulin_data_2.groupby(\"Weight (g)\").mean()[\"Tumor Volume (mm3)\"]\n",
    "plt.scatter(weight_vs_tumors.index, weight_vs_tumors )\n",
    "plt.title(\"Mouse Weight vs Avg Tumor Volume (Capomulin Regimen)\")\n",
    "plt.xlabel(\"Weight (g)\")\n",
    "plt.ylabel(\"Avg Tumor Volume (mm3)\")\n",
    "\n"
   ]
  },
  {
   "cell_type": "markdown",
   "metadata": {},
   "source": [
    "## Correlation and Regression"
   ]
  },
  {
   "cell_type": "code",
   "execution_count": null,
   "metadata": {},
   "outputs": [],
   "source": [
    "# Calculate the correlation coefficient and linear regression model \n",
    "# for mouse weight and average tumor volume for the Capomulin regimen\n"
   ]
  },
  {
   "cell_type": "code",
   "execution_count": null,
   "metadata": {},
   "outputs": [],
   "source": []
  }
 ],
 "metadata": {
  "anaconda-cloud": {},
  "kernelspec": {
   "display_name": "Python 3",
   "language": "python",
   "name": "python3"
  },
  "language_info": {
   "codemirror_mode": {
    "name": "ipython",
    "version": 3
   },
   "file_extension": ".py",
   "mimetype": "text/x-python",
   "name": "python",
   "nbconvert_exporter": "python",
   "pygments_lexer": "ipython3",
   "version": "3.7.6"
  }
 },
 "nbformat": 4,
 "nbformat_minor": 2
}
